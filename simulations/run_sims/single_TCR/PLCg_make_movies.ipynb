{
 "cells": [
  {
   "cell_type": "code",
   "execution_count": 1,
   "id": "972b766b",
   "metadata": {},
   "outputs": [],
   "source": [
    "with open('gif_cmds.sh','w') as f:\n",
    "    \n",
    "    for j in range(50):\n",
    "\n",
    "        f.write('python ../../code/make_movie.py '+\\\n",
    "                f'-basenames results/type0_{j} -focus 75 -TCR_size 10 '+\\\n",
    "                '-show_TCR bound -show_types -outdir gifs -fps 10 -T 1201 -Tstep 5 -show_time 120\\n')"
   ]
  },
  {
   "cell_type": "code",
   "execution_count": null,
   "id": "d9a17643",
   "metadata": {},
   "outputs": [],
   "source": []
  }
 ],
 "metadata": {
  "kernelspec": {
   "display_name": "lat_sim",
   "language": "python",
   "name": "lat_sim"
  },
  "language_info": {
   "codemirror_mode": {
    "name": "ipython",
    "version": 3
   },
   "file_extension": ".py",
   "mimetype": "text/x-python",
   "name": "python",
   "nbconvert_exporter": "python",
   "pygments_lexer": "ipython3",
   "version": "3.12.4"
  }
 },
 "nbformat": 4,
 "nbformat_minor": 5
}
