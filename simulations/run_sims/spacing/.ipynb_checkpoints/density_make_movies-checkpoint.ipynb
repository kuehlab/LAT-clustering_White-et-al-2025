{
 "cells": [
  {
   "cell_type": "code",
   "execution_count": 1,
   "id": "e5860436",
   "metadata": {},
   "outputs": [],
   "source": [
    "import numpy as np"
   ]
  },
  {
   "cell_type": "code",
   "execution_count": 2,
   "id": "f1a158ce",
   "metadata": {},
   "outputs": [],
   "source": [
    "box_widths = [1,2,4,7,10,13,16,25,34,49,70,100]\n",
    "\n",
    "with open('gif_cmds.sh','w') as f:\n",
    "    \n",
    "    for i,box_width in enumerate(box_widths):\n",
    "\n",
    "        sim_width = box_width + 450\n",
    "        middle = int(np.floor(sim_width/2))\n",
    "        \n",
    "        for j in range(5):\n",
    "\n",
    "            f.write(f'python ../../code/make_movie.py '+\n",
    "                    f'-basenames results/width{box_width}_{j} -limits {middle-100} {middle+100} -TCR_size 10 '+\\\n",
    "                    '-show_TCR bound -show_types -outdir gifs -fps 10 -T 1201 -Tstep 5 -show_time 120\\n')"
   ]
  },
  {
   "cell_type": "code",
   "execution_count": null,
   "id": "72615740",
   "metadata": {},
   "outputs": [],
   "source": []
  }
 ],
 "metadata": {
  "kernelspec": {
   "display_name": "lat_sim",
   "language": "python",
   "name": "lat_sim"
  },
  "language_info": {
   "codemirror_mode": {
    "name": "ipython",
    "version": 3
   },
   "file_extension": ".py",
   "mimetype": "text/x-python",
   "name": "python",
   "nbconvert_exporter": "python",
   "pygments_lexer": "ipython3",
   "version": "3.12.4"
  }
 },
 "nbformat": 4,
 "nbformat_minor": 5
}
