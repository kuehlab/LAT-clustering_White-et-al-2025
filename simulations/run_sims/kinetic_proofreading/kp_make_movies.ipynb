{
 "cells": [
  {
   "cell_type": "code",
   "execution_count": 1,
   "id": "87058051",
   "metadata": {},
   "outputs": [],
   "source": [
    "strength = [1, 0.3, 0.1, 0.03, 0.01, 0.003, 0.001]\n",
    "\n",
    "with open('gif_cmds.sh','w') as f:\n",
    "    \n",
    "    for i,ty in enumerate(range(3)):\n",
    "        for ii,stg in enumerate(strength):\n",
    "            for j in range(5):\n",
    "    \n",
    "                f.write(f'python ../../code/make_movie.py '+\n",
    "                        f'-basenames results/type{ty}_str{stg}_{j} -limits 0 151 -TCR_size 10 '+\\\n",
    "                        '-show_TCR bound -show_types -outdir gifs -fps 10 -T 1201 -Tstep 5 -show_time 120\\n')"
   ]
  },
  {
   "cell_type": "code",
   "execution_count": null,
   "id": "9bb70ecc",
   "metadata": {},
   "outputs": [],
   "source": []
  }
 ],
 "metadata": {
  "kernelspec": {
   "display_name": "lat_sim",
   "language": "python",
   "name": "lat_sim"
  },
  "language_info": {
   "codemirror_mode": {
    "name": "ipython",
    "version": 3
   },
   "file_extension": ".py",
   "mimetype": "text/x-python",
   "name": "python",
   "nbconvert_exporter": "python",
   "pygments_lexer": "ipython3",
   "version": "3.12.4"
  }
 },
 "nbformat": 4,
 "nbformat_minor": 5
}
