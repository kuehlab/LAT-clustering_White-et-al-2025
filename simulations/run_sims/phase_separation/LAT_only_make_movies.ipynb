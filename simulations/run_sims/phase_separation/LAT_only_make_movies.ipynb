{
 "cells": [
  {
   "cell_type": "code",
   "execution_count": 1,
   "id": "403c25dc",
   "metadata": {},
   "outputs": [],
   "source": [
    "import pandas as pd\n",
    "import numpy as np\n",
    "import matplotlib.pyplot as plt\n",
    "import seaborn as sns\n",
    "from matplotlib import animation\n",
    "import matplotlib as mpl \n",
    "import pickle as pkl\n",
    "from glob import glob\n",
    "from tqdm import tqdm\n",
    "import h5py\n",
    "import networkx as nx"
   ]
  },
  {
   "cell_type": "code",
   "execution_count": 2,
   "id": "8ec308cc",
   "metadata": {},
   "outputs": [],
   "source": [
    "density_range = [round(0.006*(2**(i/3))/(0.03**2),2) for i in range(12)]\n",
    "\n",
    "with open('gif_cmds.sh','w') as f:\n",
    "    \n",
    "    for i,dnst in enumerate(density_range):\n",
    "            \n",
    "            for j in range(5):\n",
    "\n",
    "                name = f'results/d{dnst}_{j}'\n",
    "                f.write(f'python ../../code/make_movie.py'+\n",
    "                        f' -basenames {name} -limits 0 151 -TCR_size 10 '+\\\n",
    "                        '-show_TCR bound -show_types -outdir gifs -fps 10 -T 1201 -Tstep 5 -show_time 120\\n')"
   ]
  },
  {
   "cell_type": "code",
   "execution_count": null,
   "id": "4dd986c6",
   "metadata": {},
   "outputs": [],
   "source": []
  }
 ],
 "metadata": {
  "kernelspec": {
   "display_name": "lat_sim",
   "language": "python",
   "name": "lat_sim"
  },
  "language_info": {
   "codemirror_mode": {
    "name": "ipython",
    "version": 3
   },
   "file_extension": ".py",
   "mimetype": "text/x-python",
   "name": "python",
   "nbconvert_exporter": "python",
   "pygments_lexer": "ipython3",
   "version": "3.12.4"
  }
 },
 "nbformat": 4,
 "nbformat_minor": 5
}
